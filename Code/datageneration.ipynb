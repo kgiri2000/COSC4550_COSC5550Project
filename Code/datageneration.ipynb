{
 "cells": [
  {
   "cell_type": "code",
   "execution_count": 164,
   "metadata": {},
   "outputs": [],
   "source": [
    "import numpy as np\n",
    "import matplotlib.pyplot as plt\n",
    "import pandas as pd\n",
    "import seaborn as sn\n",
    "import calendar\n",
    "\n"
   ]
  },
  {
   "cell_type": "code",
   "execution_count": 165,
   "metadata": {},
   "outputs": [],
   "source": [
    "# Generate a range of dates from January 1, 2001, to December 31, 2021\n",
    "date_range = pd.date_range(start=\"2001-01-01\", end=\"2021-12-31\", freq='D')\n",
    "\n",
    "# Create a DataFrame with the date column\n",
    "df = pd.DataFrame({'date': date_range})\n",
    "\n",
    "# Extract year, month, and day into separate columns\n",
    "df['year'] = df['date'].dt.year\n",
    "df['month'] = df['date'].dt.month\n",
    "df['day'] = df['date'].dt.day\n",
    "# Add a column with the day names\n",
    "df['DayName'] = df['date'].dt.day_name()\n",
    "\n",
    "# Save the DataFrame to an Excel file\n",
    "df.to_excel('dates.xlsx', index=False)"
   ]
  },
  {
   "cell_type": "code",
   "execution_count": 166,
   "metadata": {},
   "outputs": [],
   "source": [
    "new_dataset = pd.read_excel('dates.xlsx')"
   ]
  },
  {
   "cell_type": "code",
   "execution_count": 167,
   "metadata": {},
   "outputs": [
    {
     "name": "stdout",
     "output_type": "stream",
     "text": [
      "           date  year  month  day    DayName\n",
      "0    2001-01-01  2001      1    1     Monday\n",
      "1    2001-01-02  2001      1    2    Tuesday\n",
      "2    2001-01-03  2001      1    3  Wednesday\n",
      "3    2001-01-04  2001      1    4   Thursday\n",
      "4    2001-01-05  2001      1    5     Friday\n",
      "...         ...   ...    ...  ...        ...\n",
      "7665 2021-12-27  2021     12   27     Monday\n",
      "7666 2021-12-28  2021     12   28    Tuesday\n",
      "7667 2021-12-29  2021     12   29  Wednesday\n",
      "7668 2021-12-30  2021     12   30   Thursday\n",
      "7669 2021-12-31  2021     12   31     Friday\n",
      "\n",
      "[7670 rows x 5 columns]\n"
     ]
    }
   ],
   "source": [
    "print(new_dataset)"
   ]
  },
  {
   "cell_type": "code",
   "execution_count": 168,
   "metadata": {},
   "outputs": [
    {
     "name": "stdout",
     "output_type": "stream",
     "text": [
      "[31, 28, 31, 30, 31, 30, 31, 31, 30, 31, 30, 31, 31, 28, 31, 30, 31, 30, 31, 31, 30, 31, 30, 31, 31, 28, 31, 30, 31, 30, 31, 31, 30, 31, 30, 31, 31, 29, 31, 30, 31, 30, 31, 31, 30, 31, 30, 31, 31, 28, 31, 30, 31, 30, 31, 31, 30, 31, 30, 31, 31, 28, 31, 30, 31, 30, 31, 31, 30, 31, 30, 31, 31, 28, 31, 30, 31, 30, 31, 31, 30, 31, 30, 31, 31, 29, 31, 30, 31, 30, 31, 31, 30, 31, 30, 31, 31, 28, 31, 30, 31, 30, 31, 31, 30, 31, 30, 31, 31, 28, 31, 30, 31, 30, 31, 31, 30, 31, 30, 31, 31, 28, 31, 30, 31, 30, 31, 31, 30, 31, 30, 31, 31, 29, 31, 30, 31, 30, 31, 31, 30, 31, 30, 31, 31, 28, 31, 30, 31, 30, 31, 31, 30, 31, 30, 31, 31, 28, 31, 30, 31, 30, 31, 31, 30, 31, 30, 31, 31, 28, 31, 30, 31, 30, 31, 31, 30, 31, 30, 31, 31, 29, 31, 30, 31, 30, 31, 31, 30, 31, 30, 31, 31, 28, 31, 30, 31, 30, 31, 31, 30, 31, 30, 31, 31, 28, 31, 30, 31, 30, 31, 31, 30, 31, 30, 31, 31, 28, 31, 30, 31, 30, 31, 31, 30, 31, 30, 31, 31, 29, 31, 30, 31, 30, 31, 31, 30, 31, 30, 31, 31, 28, 31, 30, 31, 30, 31, 31, 30, 31, 30, 31]\n"
     ]
    }
   ],
   "source": [
    "# Generate a 1D array for the number of days in each month for each year from 2001 to 2021\n",
    "days_in_month_array = []\n",
    "\n",
    "for year in range(2001, 2022):\n",
    "    for month in range(1, 13):\n",
    "        days_in_month = calendar.monthrange(year, month)[1]\n",
    "        days_in_month_array.append(days_in_month)\n",
    "\n",
    "# Print the generated array\n",
    "print(days_in_month_array)"
   ]
  },
  {
   "cell_type": "code",
   "execution_count": 169,
   "metadata": {},
   "outputs": [],
   "source": [
    "#Average monthly to average daily\n",
    "dataset = pd.read_excel(\"alldata.xlsx\")\n",
    "average_montly = dataset.iloc[:,-1].values"
   ]
  },
  {
   "cell_type": "code",
   "execution_count": 170,
   "metadata": {},
   "outputs": [
    {
     "name": "stdout",
     "output_type": "stream",
     "text": [
      "254\n"
     ]
    },
    {
     "data": {
      "text/plain": [
       "numpy.ndarray"
      ]
     },
     "execution_count": 170,
     "metadata": {},
     "output_type": "execute_result"
    }
   ],
   "source": [
    "print(average_montly.size)\n",
    "type(average_montly)"
   ]
  },
  {
   "cell_type": "code",
   "execution_count": 171,
   "metadata": {},
   "outputs": [
    {
     "name": "stdout",
     "output_type": "stream",
     "text": [
      "254\n",
      "[1.15693548 1.15693548 1.15693548 ... 1.24777419 1.24777419 1.24777419]\n",
      "7670\n"
     ]
    }
   ],
   "source": [
    "#Getting the daily_average electricty consumption\n",
    "#First getting the monthly average and converting to daily\n",
    "itr = 1\n",
    "new_daily = np.new_daily\n",
    "\n",
    "\n",
    "for i in days_in_month_array:\n",
    "    daily = average_montly[itr] / i\n",
    "    for j in range(i):\n",
    "        new_daily = np.append(new_daily, daily)\n",
    "    itr+=1\n",
    "\n",
    "\n",
    "print(average_montly.size)    \n",
    "print(new_daily)\n",
    "print(new_daily.size)\n"
   ]
  },
  {
   "cell_type": "code",
   "execution_count": 172,
   "metadata": {},
   "outputs": [
    {
     "name": "stdout",
     "output_type": "stream",
     "text": [
      "252\n",
      "252\n"
     ]
    }
   ],
   "source": [
    "#Working with the max, min and average temperature\n",
    "#Getting the average monthly average and chainging it to daily temperature\n",
    "empty_arr1 = []\n",
    "empty_arr2 = []\n",
    "empty_arr3 = []\n",
    "max_avg_daily = np.array(empty_arr1)\n",
    "min_avg_daily = np.array(empty_arr2)\n",
    "avg_daily = np.empty(empty_arr3)\n",
    "\n",
    "max_avg_month = dataset.iloc[1: 253, 11].values\n",
    "min_avg_month = dataset.iloc[1:253, 12].values\n",
    "avg_month = dataset.iloc[1:253,13].values\n",
    "print(avg_month.size)\n",
    "print(max_avg_month.size)\n",
    "itr= 0\n",
    "#daily_maximim_Average_temperature\n",
    "for i in days_in_month_array:\n",
    "    for j in range(i):\n",
    "        max_avg_daily= np.append(max_avg_daily, max_avg_month[itr])\n",
    "    itr+=1\n",
    "itr = 0\n",
    "#Daily_minimum_average_temperature\n",
    "for i in days_in_month_array:\n",
    "    for j in range(i):\n",
    "        min_avg_daily= np.append(min_avg_daily, min_avg_month[itr])\n",
    "itr = 0\n",
    "#Daily_average_temperature\n",
    "for i in days_in_month_array:\n",
    "    for j in range(i):\n",
    "        avg_daily = np.append(avg_daily, avg_month[itr])\n",
    "\n",
    "avg_daily_temp = avg_daily[:-1]\n"
   ]
  },
  {
   "cell_type": "markdown",
   "metadata": {},
   "source": [
    "# Making a single file\n",
    "# We have:\n",
    "\"\"\"\n",
    "We want to combine all the files to make a single excel file so we can do the linear regression\n",
    "Original file: alldata.xlsx which had all the data about the avergae electricty consumption, and temperature\n",
    "New excel file: data.excel which has the dates and the dates where I want to combine all the files\n",
    "Besides we have other file to combine:\n",
    "1. new_daily (daily average electricty consumption)\n",
    "2. max_avg_daily\n",
    "3. min_avg_daily\n",
    "4. avg_month \n",
    "\n",
    "\"\"\""
   ]
  },
  {
   "cell_type": "code",
   "execution_count": 176,
   "metadata": {},
   "outputs": [],
   "source": [
    "\n",
    "new_dataset['max_avg_daily'] = max_avg_daily\n",
    "new_dataset['min_avg_daily'] = min_avg_daily\n",
    "new_dataset[\"avg_daily_tmp\"] = avg_daily_temp\n",
    "new_dataset[\"new_daily\"] = new_daily\n",
    "new_dataset.to_excel('dates.xlsx', index = False)\n",
    "\n"
   ]
  }
 ],
 "metadata": {
  "kernelspec": {
   "display_name": "base",
   "language": "python",
   "name": "python3"
  },
  "language_info": {
   "codemirror_mode": {
    "name": "ipython",
    "version": 3
   },
   "file_extension": ".py",
   "mimetype": "text/x-python",
   "name": "python",
   "nbconvert_exporter": "python",
   "pygments_lexer": "ipython3",
   "version": "3.11.4"
  }
 },
 "nbformat": 4,
 "nbformat_minor": 2
}
